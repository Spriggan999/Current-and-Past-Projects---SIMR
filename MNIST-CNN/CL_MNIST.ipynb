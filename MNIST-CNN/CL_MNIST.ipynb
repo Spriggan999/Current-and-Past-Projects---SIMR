{
  "nbformat": 4,
  "nbformat_minor": 0,
  "metadata": {
    "colab": {
      "provenance": []
    },
    "kernelspec": {
      "name": "python3",
      "display_name": "Python 3"
    },
    "language_info": {
      "name": "python"
    }
  },
  "cells": [
    {
      "cell_type": "code",
      "source": [
        "from keras.datasets import mnist\n",
        "(train_X, train_y), (test_X, test_y) = mnist.load_data()"
      ],
      "metadata": {
        "id": "PeYMAm_D77Xm"
      },
      "execution_count": null,
      "outputs": []
    },
    {
      "cell_type": "code",
      "source": [
        "train_X = train_X/255.0\n",
        "test_X = test_X/255.0\n",
        "\n",
        "# mean normalization"
      ],
      "metadata": {
        "id": "nHrXkkZ68EUg"
      },
      "execution_count": null,
      "outputs": []
    },
    {
      "cell_type": "code",
      "source": [
        "import numpy as np\n",
        "a = np.asarray(train_X)\n",
        "print(np.shape(a))\n",
        "\n",
        "b = np.asarray(test_X)\n",
        "display(np.shape(b))\n",
        "\n",
        "# Mini-batches of 32\n",
        "# This is the full dataset"
      ],
      "metadata": {
        "id": "GHNt44-pyxH8"
      },
      "execution_count": null,
      "outputs": []
    },
    {
      "cell_type": "code",
      "source": [
        "import tensorflow as tf"
      ],
      "metadata": {
        "id": "NvLT74dYZ0JQ"
      },
      "execution_count": null,
      "outputs": []
    },
    {
      "cell_type": "code",
      "source": [
        "model = tf.keras.models.Sequential([tf.keras.layers.Flatten(), tf.keras.layers.Dense(1024, activation=tf.nn.relu),\n",
        "                                    tf.keras.layers.Dense(10, activation = tf.nn.softmax)])"
      ],
      "metadata": {
        "id": "QkCxtk7yZ-ZI"
      },
      "execution_count": null,
      "outputs": []
    },
    {
      "cell_type": "code",
      "source": [
        "model.compile(optimizer = tf.optimizers.Adam(), loss = 'sparse_categorical_crossentropy', metrics = ['accuracy'])"
      ],
      "metadata": {
        "id": "esNsBRttaeyJ"
      },
      "execution_count": null,
      "outputs": []
    },
    {
      "cell_type": "code",
      "source": [
        "model.fit(train_X, train_y, epochs = 5)"
      ],
      "metadata": {
        "id": "jnSnUSAXayGx"
      },
      "execution_count": null,
      "outputs": []
    },
    {
      "cell_type": "code",
      "source": [
        "model.evaluate(test_X, test_y)"
      ],
      "metadata": {
        "id": "o4fNF6vnFxdX"
      },
      "execution_count": null,
      "outputs": []
    },
    {
      "cell_type": "code",
      "source": [
        "model2 = tf.keras.models.Sequential([tf.keras.layers.Conv2D(64, (3,3), activation = 'relu', input_shape = (28,28,1)), \n",
        "                                     tf.keras.layers.MaxPool2D(pool_size = (2,2)), tf.keras.layers.Flatten(), \n",
        "                                     tf.keras.layers.Dense(1024, activation=tf.nn.relu), tf.keras.layers.Dense(10, activation = tf.nn.softmax)])\n",
        "model2.compile(optimizer = tf.optimizers.Adam(), loss = 'sparse_categorical_crossentropy', metrics = ['accuracy'])\n",
        "model2.fit(train_X, train_y, epochs = 5)\n",
        "model2.evaluate(test_X, test_y)\n"
      ],
      "metadata": {
        "id": "-SJCAiQNTvW6"
      },
      "execution_count": null,
      "outputs": []
    },
    {
      "cell_type": "code",
      "source": [
        "from keras.datasets import fashion_mnist\n",
        "(train_X2, train_y2), (test_X2, test_y2) = fashion_mnist.load_data()\n",
        "\n",
        "train_X2 = train_X2/255.0\n",
        "test_X2 = test_X2/255.0\n",
        "\n",
        "model3 = tf.keras.models.Sequential([tf.keras.layers.Conv2D(64, (3,3), activation = 'relu', input_shape = (28,28,1)), \n",
        "                                     tf.keras.layers.MaxPool2D(pool_size = (2,2)), tf.keras.layers.Flatten(), \n",
        "                                     tf.keras.layers.Dense(1024, activation=tf.nn.relu), tf.keras.layers.Dense(10, activation = tf.nn.softmax)])\n",
        "model3.compile(optimizer = tf.optimizers.Adam(), loss = 'sparse_categorical_crossentropy', metrics = ['accuracy'])\n",
        "model3.fit(train_X2, train_y2, epochs = 5)\n",
        "model3.evaluate(test_X2, test_y2)"
      ],
      "metadata": {
        "id": "HCTELU8Ws0im"
      },
      "execution_count": null,
      "outputs": []
    },
    {
      "cell_type": "code",
      "source": [
        "import numpy as np\n",
        "from keras.datasets import cifar10\n",
        "(train_X3, train_y3), (test_X3, test_y3) = cifar10.load_data()\n",
        "\n",
        "train_X3_grey = []\n",
        "for img in train_X3:\n",
        "  gray_array = np.dot(img[...,:3], [0.2989, 0.5870, 0.1140])\n",
        "  train_X3_grey.append(gray_array)\n",
        "\n",
        "train_X3_grey = np.asarray(train_X3_grey)\n",
        "train_X3_grey = train_X3_grey.reshape(50000,32,32,1)\n",
        "\n",
        "\n",
        "test_X3_grey = []\n",
        "for img in test_X3:\n",
        "  gray_array = np.dot(img[...,:3], [0.2989, 0.5870, 0.1140])\n",
        "  test_X3_grey.append(gray_array)\n",
        "\n",
        "test_X3_grey = np.asarray(test_X3_grey)\n",
        "test_X3_grey = test_X3_grey.reshape(10000,32,32,1)\n",
        "\n",
        "\n",
        "train_X3_grey = train_X3_grey/255.0\n",
        "test_X3_grey = test_X3_grey/255.0"
      ],
      "metadata": {
        "id": "Jr-bY1P8BWOq"
      },
      "execution_count": null,
      "outputs": []
    },
    {
      "cell_type": "code",
      "source": [
        "model4 = tf.keras.models.Sequential([tf.keras.layers.Conv2D(64, (3,3), activation = 'relu', input_shape = (32,32,1)), \n",
        "                                     # use sigmoid or softmax activation unction\n",
        "                                     tf.keras.layers.MaxPool2D(pool_size = (2,2)),\n",
        "                                     tf.keras.layers.Flatten(), \n",
        "                                     tf.keras.layers.Dense(512, activation=tf.nn.relu),\n",
        "                                     tf.keras.layers.Dense(64, activation=tf.nn.relu),\n",
        "                                     tf.keras.layers.Dense(10, activation = tf.nn.softmax)])\n",
        "model4.compile(optimizer = tf.optimizers.Adam(), loss = 'sparse_categorical_crossentropy', metrics = ['accuracy'])\n",
        "model4.fit(train_X3_grey, train_y3, epochs = 10, batch_size = 32)\n",
        "model4.evaluate(test_X3_grey, test_y3)"
      ],
      "metadata": {
        "id": "QvcaRTs7HkVL"
      },
      "execution_count": null,
      "outputs": []
    }
  ]
}